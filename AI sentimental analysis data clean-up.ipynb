{
 "cells": [
  {
   "cell_type": "code",
   "execution_count": 4,
   "id": "e74e0aab",
   "metadata": {},
   "outputs": [
    {
     "name": "stdout",
     "output_type": "stream",
     "text": [
      "CSV files appended successfully!\n"
     ]
    }
   ],
   "source": [
    "import csv\n",
    "import os\n",
    "\n",
    "# Specify the folder path containing the CSV files\n",
    "folder_path = r\"C:\\Users\\chide\\Desktop\\AI sentiment analysis project\\Sentiment data\"\n",
    "\n",
    "# Specify the output file where the data will be appended\n",
    "output_file = r\"C:\\Users\\chide\\Desktop\\AI sentiment analysis project\\Sentiment data_append.CSV\"\n",
    "\n",
    "# Get a list of all files in the folder\n",
    "file_list = os.listdir(folder_path)\n",
    "\n",
    "# Open the output file in append mode\n",
    "with open(output_file, 'a', newline='', encoding='utf-8') as outfile:\n",
    "    writer = csv.writer(outfile)\n",
    "\n",
    "    # Loop through each file in the folder\n",
    "    for filename in file_list:\n",
    "        file_path = os.path.join(folder_path, filename)\n",
    "\n",
    "        # Check if the file is a CSV file\n",
    "        if filename.endswith('.csv'):\n",
    "\n",
    "            # Open the CSV file\n",
    "            with open(file_path, 'r', encoding='utf-8') as infile:\n",
    "                reader = csv.reader(infile)\n",
    "\n",
    "                # Append each row to the output file\n",
    "                for row in reader:\n",
    "                    writer.writerow(row)\n",
    "\n",
    
   ]
}
