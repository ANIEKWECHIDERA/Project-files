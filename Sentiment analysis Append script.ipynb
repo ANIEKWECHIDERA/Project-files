{
 "cells": [
  {
   "cell_type": "code",
   "execution_count": 4,
   "id": "e74e0aab",
   "metadata": {},
   "outputs": [
    {
     "name": "stdout",
     "output_type": "stream",
     "text": [
      
     ]
    }
   ],
   "source": [
    "import csv\n",
    "import os\n",
    "\n",
    "# Specify the folder path containing the CSV files\n",
    "folder_path = \n",
    "\n",
    "# Specify the output file where the data will be appended\n",
    "output_file = \n",
    "\n",
    "# Get a list of all files in the folder\n",
    "file_list = os.listdir(folder_path)\n",
    "\n",
    "# Open the output file in append mode\n",
    "with open(output_file, 'a', newline='', encoding='utf-8') as outfile:\n",
    "    writer = csv.writer(outfile)\n",
    "\n",
    "    # Loop through each file in the folder\n",
    "    for filename in file_list:\n",
    "        file_path = os.path.join(folder_path, filename)\n",
    "\n",
    "        # Check if the file is a CSV file\n",
    "        if filename.endswith('.csv'):\n",
    "\n",
    "            # Open the CSV file\n",
    "            with open(file_path, 'r', encoding='utf-8') as infile:\n",
    "                reader = csv.reader(infile)\n",
    "\n",
    "                # Append each row to the output file\n",
    "                for row in reader:\n",
    "                    writer.writerow(row)\n",
    "\n",
    "\n"
   ]
  },
  {
   "cell_type": "code",
   "execution_count": null,
   "id": "8669bb1f",
   "metadata": {},
   "outputs": [],
   "source": []
  }
 ],
 "metadata": {
  "kernelspec": {
   "display_name": "Python 3 (ipykernel)",
   "language": "python",
   "name": "python3"
  },
  "language_info": {
   "codemirror_mode": {
    "name": "ipython",
    "version": 3
   },
   "file_extension": ".py",
   "mimetype": "text/x-python",
   "name": "python",
   "nbconvert_exporter": "python",
   "pygments_lexer": "ipython3",
   "version": "3.10.9"
  }
 },
 "nbformat": 4,
 "nbformat_minor": 5
}
